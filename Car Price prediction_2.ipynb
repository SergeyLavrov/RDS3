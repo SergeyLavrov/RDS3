{
 "cells": [
  {
   "cell_type": "markdown",
   "metadata": {
    "ExecuteTime": {
     "end_time": "2020-08-12T10:29:57.681496Z",
     "start_time": "2020-08-12T10:29:55.663158Z"
    }
   },
   "source": [
    "# Представляю вам мою версию проекта предсказания цены автомобиля."
   ]
  },
  {
   "cell_type": "markdown",
   "metadata": {},
   "source": [
    "Первым делом подгрузим нужные библиотеки."
   ]
  },
  {
   "cell_type": "code",
   "execution_count": 1,
   "metadata": {
    "ExecuteTime": {
     "end_time": "2020-08-14T09:35:15.742170Z",
     "start_time": "2020-08-14T09:35:12.790462Z"
    }
   },
   "outputs": [],
   "source": [
    "import pandas as pd \n",
    "import numpy as np\n",
    "import re\n",
    "from sklearn.model_selection import train_test_split\n",
    "from sklearn.ensemble import RandomForestRegressor, RandomForestClassifier, GradientBoostingRegressor, ExtraTreesRegressor, BaggingRegressor\n",
    "\n",
    "from sklearn.feature_extraction.text import CountVectorizer\n",
    "from sklearn.tree import ExtraTreeRegressor\n",
    "\n",
    "from sklearn.feature_extraction.text import TfidfVectorizer\n",
    "import matplotlib.pyplot as plt\n",
    "import seaborn as sns\n",
    "\n",
    "from sklearn.decomposition import PCA\n",
    "from sklearn.decomposition import TruncatedSVD\n",
    "from tqdm import tqdm\n",
    "%matplotlib inline"
   ]
  },
  {
   "cell_type": "markdown",
   "metadata": {},
   "source": [
    "Зададим константы для настройки модели."
   ]
  },
  {
   "cell_type": "code",
   "execution_count": 2,
   "metadata": {
    "ExecuteTime": {
     "end_time": "2020-08-14T09:35:15.758166Z",
     "start_time": "2020-08-14T09:35:15.744169Z"
    }
   },
   "outputs": [],
   "source": [
    "RANDOM_SEED = 42  \n",
    "VAL_SIZE   = 0.33\n",
    "n_folds = 5\n",
    "iterations = 1300\n",
    "learning_rate = 0.05\n",
    "VERSION = 6"
   ]
  },
  {
   "cell_type": "markdown",
   "metadata": {},
   "source": [
    "Далее подгрузим наши данные. Для обучения модели будем использовать https://www.kaggle.com/macsunmood/autoru-parsed-0603-1304 датасет с kaggle.com "
   ]
  },
  {
   "cell_type": "code",
   "execution_count": 3,
   "metadata": {
    "ExecuteTime": {
     "end_time": "2020-08-14T09:35:18.667622Z",
     "start_time": "2020-08-14T09:35:15.767162Z"
    }
   },
   "outputs": [],
   "source": [
    "data_train = pd.read_csv('new_data_99_06_03_13_04.csv')\n",
    "data_train= data_train.drop_duplicates().reset_index(drop = True) #чистим данные от дубликатов и сбрасываем индек.\n",
    "data_test = pd.read_csv('test.csv') #загружаем тестовый датасет\n",
    "sample_submission = pd.read_csv('sample_submission.csv') "
   ]
  },
  {
   "cell_type": "markdown",
   "metadata": {},
   "source": [
    "Давайте посмотрим на данные в обучающем датасете."
   ]
  },
  {
   "cell_type": "code",
   "execution_count": 4,
   "metadata": {
    "ExecuteTime": {
     "end_time": "2020-08-14T09:35:18.793582Z",
     "start_time": "2020-08-14T09:35:18.669622Z"
    }
   },
   "outputs": [
    {
     "data": {
      "text/html": [
       "<div>\n",
       "<style scoped>\n",
       "    .dataframe tbody tr th:only-of-type {\n",
       "        vertical-align: middle;\n",
       "    }\n",
       "\n",
       "    .dataframe tbody tr th {\n",
       "        vertical-align: top;\n",
       "    }\n",
       "\n",
       "    .dataframe thead th {\n",
       "        text-align: right;\n",
       "    }\n",
       "</style>\n",
       "<table border=\"1\" class=\"dataframe\">\n",
       "  <thead>\n",
       "    <tr style=\"text-align: right;\">\n",
       "      <th></th>\n",
       "      <th>Unnamed: 0</th>\n",
       "      <th>bodyType</th>\n",
       "      <th>brand</th>\n",
       "      <th>color</th>\n",
       "      <th>fuelType</th>\n",
       "      <th>modelDate</th>\n",
       "      <th>name</th>\n",
       "      <th>numberOfDoors</th>\n",
       "      <th>productionDate</th>\n",
       "      <th>vehicleConfiguration</th>\n",
       "      <th>...</th>\n",
       "      <th>description</th>\n",
       "      <th>mileage</th>\n",
       "      <th>Комплектация</th>\n",
       "      <th>Привод</th>\n",
       "      <th>Руль</th>\n",
       "      <th>Владельцы</th>\n",
       "      <th>ПТС</th>\n",
       "      <th>Таможня</th>\n",
       "      <th>Владение</th>\n",
       "      <th>Price</th>\n",
       "    </tr>\n",
       "  </thead>\n",
       "  <tbody>\n",
       "    <tr>\n",
       "      <th>0</th>\n",
       "      <td>0</td>\n",
       "      <td>Седан</td>\n",
       "      <td>AUDI</td>\n",
       "      <td>040001</td>\n",
       "      <td>бензин</td>\n",
       "      <td>1990.0</td>\n",
       "      <td>2.3 MT (133 л.с.)</td>\n",
       "      <td>4.0</td>\n",
       "      <td>1991</td>\n",
       "      <td>MECHANICAL</td>\n",
       "      <td>...</td>\n",
       "      <td>\\nБыстрым торг.Обмен интересен на авто с неисп...</td>\n",
       "      <td>10000</td>\n",
       "      <td>{'id': '0'}</td>\n",
       "      <td>передний</td>\n",
       "      <td>LEFT</td>\n",
       "      <td>3.0</td>\n",
       "      <td>ORIGINAL</td>\n",
       "      <td>True</td>\n",
       "      <td>NaN</td>\n",
       "      <td>135000</td>\n",
       "    </tr>\n",
       "    <tr>\n",
       "      <th>1</th>\n",
       "      <td>1</td>\n",
       "      <td>Седан</td>\n",
       "      <td>AUDI</td>\n",
       "      <td>040001</td>\n",
       "      <td>бензин</td>\n",
       "      <td>1988.0</td>\n",
       "      <td>2.0 MT (115 л.с.)</td>\n",
       "      <td>4.0</td>\n",
       "      <td>1989</td>\n",
       "      <td>MECHANICAL</td>\n",
       "      <td>...</td>\n",
       "      <td>На ходу!Очень много сделано!До аварии ездил 1....</td>\n",
       "      <td>300000</td>\n",
       "      <td>{'id': '0'}</td>\n",
       "      <td>передний</td>\n",
       "      <td>LEFT</td>\n",
       "      <td>3.0</td>\n",
       "      <td>DUPLICATE</td>\n",
       "      <td>True</td>\n",
       "      <td>NaN</td>\n",
       "      <td>42000</td>\n",
       "    </tr>\n",
       "    <tr>\n",
       "      <th>2</th>\n",
       "      <td>2</td>\n",
       "      <td>Универсал 5 дв.</td>\n",
       "      <td>AUDI</td>\n",
       "      <td>CACECB</td>\n",
       "      <td>бензин</td>\n",
       "      <td>1990.0</td>\n",
       "      <td>2.3 MT (133 л.с.)</td>\n",
       "      <td>5.0</td>\n",
       "      <td>1991</td>\n",
       "      <td>MECHANICAL</td>\n",
       "      <td>...</td>\n",
       "      <td>Новый перешитый потолок. \\nМашина на полном ходу</td>\n",
       "      <td>205636</td>\n",
       "      <td>{'id': '0'}</td>\n",
       "      <td>передний</td>\n",
       "      <td>LEFT</td>\n",
       "      <td>2.0</td>\n",
       "      <td>ORIGINAL</td>\n",
       "      <td>True</td>\n",
       "      <td>NaN</td>\n",
       "      <td>200000</td>\n",
       "    </tr>\n",
       "    <tr>\n",
       "      <th>3</th>\n",
       "      <td>3</td>\n",
       "      <td>Седан</td>\n",
       "      <td>AUDI</td>\n",
       "      <td>040001</td>\n",
       "      <td>бензин</td>\n",
       "      <td>1990.0</td>\n",
       "      <td>2.3 MT (133 л.с.)</td>\n",
       "      <td>4.0</td>\n",
       "      <td>1991</td>\n",
       "      <td>MECHANICAL</td>\n",
       "      <td>...</td>\n",
       "      <td>Двигатель в порядке не дымит, масло не ест, ко...</td>\n",
       "      <td>450000</td>\n",
       "      <td>{'id': '0'}</td>\n",
       "      <td>передний</td>\n",
       "      <td>LEFT</td>\n",
       "      <td>3.0</td>\n",
       "      <td>ORIGINAL</td>\n",
       "      <td>True</td>\n",
       "      <td>NaN</td>\n",
       "      <td>119000</td>\n",
       "    </tr>\n",
       "    <tr>\n",
       "      <th>4</th>\n",
       "      <td>4</td>\n",
       "      <td>Седан</td>\n",
       "      <td>AUDI</td>\n",
       "      <td>97948F</td>\n",
       "      <td>бензин</td>\n",
       "      <td>1990.0</td>\n",
       "      <td>2.3 MT (133 л.с.)</td>\n",
       "      <td>4.0</td>\n",
       "      <td>1991</td>\n",
       "      <td>MECHANICAL</td>\n",
       "      <td>...</td>\n",
       "      <td>Автомобиль на полном ходу. Кузов и двигатель в...</td>\n",
       "      <td>275250</td>\n",
       "      <td>{'id': '0'}</td>\n",
       "      <td>передний</td>\n",
       "      <td>LEFT</td>\n",
       "      <td>3.0</td>\n",
       "      <td>DUPLICATE</td>\n",
       "      <td>True</td>\n",
       "      <td>{'year': 2013, 'month': 8}</td>\n",
       "      <td>125000</td>\n",
       "    </tr>\n",
       "  </tbody>\n",
       "</table>\n",
       "<p>5 rows × 22 columns</p>\n",
       "</div>"
      ],
      "text/plain": [
       "   Unnamed: 0         bodyType brand   color fuelType  modelDate  \\\n",
       "0           0            Седан  AUDI  040001   бензин     1990.0   \n",
       "1           1            Седан  AUDI  040001   бензин     1988.0   \n",
       "2           2  Универсал 5 дв.  AUDI  CACECB   бензин     1990.0   \n",
       "3           3            Седан  AUDI  040001   бензин     1990.0   \n",
       "4           4            Седан  AUDI  97948F   бензин     1990.0   \n",
       "\n",
       "                name  numberOfDoors  productionDate vehicleConfiguration  ...  \\\n",
       "0  2.3 MT (133 л.с.)            4.0            1991           MECHANICAL  ...   \n",
       "1  2.0 MT (115 л.с.)            4.0            1989           MECHANICAL  ...   \n",
       "2  2.3 MT (133 л.с.)            5.0            1991           MECHANICAL  ...   \n",
       "3  2.3 MT (133 л.с.)            4.0            1991           MECHANICAL  ...   \n",
       "4  2.3 MT (133 л.с.)            4.0            1991           MECHANICAL  ...   \n",
       "\n",
       "                                         description  mileage Комплектация  \\\n",
       "0  \\nБыстрым торг.Обмен интересен на авто с неисп...    10000  {'id': '0'}   \n",
       "1  На ходу!Очень много сделано!До аварии ездил 1....   300000  {'id': '0'}   \n",
       "2   Новый перешитый потолок. \\nМашина на полном ходу   205636  {'id': '0'}   \n",
       "3  Двигатель в порядке не дымит, масло не ест, ко...   450000  {'id': '0'}   \n",
       "4  Автомобиль на полном ходу. Кузов и двигатель в...   275250  {'id': '0'}   \n",
       "\n",
       "     Привод  Руль Владельцы        ПТС  Таможня                    Владение  \\\n",
       "0  передний  LEFT       3.0   ORIGINAL     True                         NaN   \n",
       "1  передний  LEFT       3.0  DUPLICATE     True                         NaN   \n",
       "2  передний  LEFT       2.0   ORIGINAL     True                         NaN   \n",
       "3  передний  LEFT       3.0   ORIGINAL     True                         NaN   \n",
       "4  передний  LEFT       3.0  DUPLICATE     True  {'year': 2013, 'month': 8}   \n",
       "\n",
       "    Price  \n",
       "0  135000  \n",
       "1   42000  \n",
       "2  200000  \n",
       "3  119000  \n",
       "4  125000  \n",
       "\n",
       "[5 rows x 22 columns]"
      ]
     },
     "metadata": {},
     "output_type": "display_data"
    },
    {
     "name": "stdout",
     "output_type": "stream",
     "text": [
      "<class 'pandas.core.frame.DataFrame'>\n",
      "RangeIndex: 109080 entries, 0 to 109079\n",
      "Data columns (total 22 columns):\n",
      " #   Column                Non-Null Count   Dtype  \n",
      "---  ------                --------------   -----  \n",
      " 0   Unnamed: 0            109080 non-null  int64  \n",
      " 1   bodyType              109079 non-null  object \n",
      " 2   brand                 109080 non-null  object \n",
      " 3   color                 109080 non-null  object \n",
      " 4   fuelType              109080 non-null  object \n",
      " 5   modelDate             109079 non-null  float64\n",
      " 6   name                  109079 non-null  object \n",
      " 7   numberOfDoors         109079 non-null  float64\n",
      " 8   productionDate        109080 non-null  int64  \n",
      " 9   vehicleConfiguration  109079 non-null  object \n",
      " 10  engineDisplacement    109079 non-null  object \n",
      " 11  enginePower           109079 non-null  float64\n",
      " 12  description           105829 non-null  object \n",
      " 13  mileage               109080 non-null  int64  \n",
      " 14  Комплектация          109080 non-null  object \n",
      " 15  Привод                109079 non-null  object \n",
      " 16  Руль                  109080 non-null  object \n",
      " 17  Владельцы             109073 non-null  float64\n",
      " 18  ПТС                   109078 non-null  object \n",
      " 19  Таможня               109080 non-null  bool   \n",
      " 20  Владение              39889 non-null   object \n",
      " 21  Price                 109080 non-null  int64  \n",
      "dtypes: bool(1), float64(4), int64(4), object(13)\n",
      "memory usage: 17.6+ MB\n"
     ]
    }
   ],
   "source": [
    "display(data_train.head())\n",
    "data_train.info()"
   ]
  },
  {
   "cell_type": "markdown",
   "metadata": {},
   "source": [
    "Давайте далее разберём основные колонки с данными.\n",
    "Первой колонкой идет \"Unnamed: 0\" как мы видим это колонка с индексом, и она нам не нужна. може смело ее удалять."
   ]
  },
  {
   "cell_type": "code",
   "execution_count": 5,
   "metadata": {
    "ExecuteTime": {
     "end_time": "2020-08-14T09:35:18.823572Z",
     "start_time": "2020-08-14T09:35:18.795581Z"
    }
   },
   "outputs": [],
   "source": [
    "data_train.drop(['Unnamed: 0'], axis = 1, inplace = True)"
   ]
  },
  {
   "cell_type": "markdown",
   "metadata": {
    "ExecuteTime": {
     "end_time": "2020-08-13T18:14:04.572317Z",
     "start_time": "2020-08-13T18:14:04.439361Z"
    }
   },
   "source": [
    "Посмотрим так же на тестовый датасет"
   ]
  },
  {
   "cell_type": "code",
   "execution_count": 6,
   "metadata": {
    "ExecuteTime": {
     "end_time": "2020-08-14T09:35:18.884551Z",
     "start_time": "2020-08-14T09:35:18.825570Z"
    }
   },
   "outputs": [
    {
     "data": {
      "text/html": [
       "<div>\n",
       "<style scoped>\n",
       "    .dataframe tbody tr th:only-of-type {\n",
       "        vertical-align: middle;\n",
       "    }\n",
       "\n",
       "    .dataframe tbody tr th {\n",
       "        vertical-align: top;\n",
       "    }\n",
       "\n",
       "    .dataframe thead th {\n",
       "        text-align: right;\n",
       "    }\n",
       "</style>\n",
       "<table border=\"1\" class=\"dataframe\">\n",
       "  <thead>\n",
       "    <tr style=\"text-align: right;\">\n",
       "      <th></th>\n",
       "      <th>bodyType</th>\n",
       "      <th>brand</th>\n",
       "      <th>color</th>\n",
       "      <th>fuelType</th>\n",
       "      <th>modelDate</th>\n",
       "      <th>name</th>\n",
       "      <th>numberOfDoors</th>\n",
       "      <th>productionDate</th>\n",
       "      <th>vehicleConfiguration</th>\n",
       "      <th>vehicleTransmission</th>\n",
       "      <th>...</th>\n",
       "      <th>mileage</th>\n",
       "      <th>Комплектация</th>\n",
       "      <th>Привод</th>\n",
       "      <th>Руль</th>\n",
       "      <th>Состояние</th>\n",
       "      <th>Владельцы</th>\n",
       "      <th>ПТС</th>\n",
       "      <th>Таможня</th>\n",
       "      <th>Владение</th>\n",
       "      <th>id</th>\n",
       "    </tr>\n",
       "  </thead>\n",
       "  <tbody>\n",
       "    <tr>\n",
       "      <th>0</th>\n",
       "      <td>седан</td>\n",
       "      <td>BMW</td>\n",
       "      <td>чёрный</td>\n",
       "      <td>дизель</td>\n",
       "      <td>2016.0</td>\n",
       "      <td>520d 2.0d AT (190 л.с.)</td>\n",
       "      <td>4.0</td>\n",
       "      <td>2017.0</td>\n",
       "      <td>SEDAN AUTOMATIC 2.0</td>\n",
       "      <td>автоматическая</td>\n",
       "      <td>...</td>\n",
       "      <td>158836.0</td>\n",
       "      <td>['[{\"name\":\"Безопасность\",\"values\":[\"Антипробу...</td>\n",
       "      <td>задний</td>\n",
       "      <td>Левый</td>\n",
       "      <td>Не требует ремонта</td>\n",
       "      <td>1 владелец</td>\n",
       "      <td>Оригинал</td>\n",
       "      <td>Растаможен</td>\n",
       "      <td>NaN</td>\n",
       "      <td>0</td>\n",
       "    </tr>\n",
       "    <tr>\n",
       "      <th>1</th>\n",
       "      <td>седан</td>\n",
       "      <td>BMW</td>\n",
       "      <td>белый</td>\n",
       "      <td>дизель</td>\n",
       "      <td>2018.0</td>\n",
       "      <td>318d 2.0d AT (150 л.с.)</td>\n",
       "      <td>4.0</td>\n",
       "      <td>2019.0</td>\n",
       "      <td>SEDAN AUTOMATIC 2.0</td>\n",
       "      <td>автоматическая</td>\n",
       "      <td>...</td>\n",
       "      <td>10.0</td>\n",
       "      <td>['[{\"name\":\"Комфорт\",\"values\":[\"Круиз-контроль...</td>\n",
       "      <td>задний</td>\n",
       "      <td>Левый</td>\n",
       "      <td>Не требует ремонта</td>\n",
       "      <td>1 владелец</td>\n",
       "      <td>Оригинал</td>\n",
       "      <td>Растаможен</td>\n",
       "      <td>NaN</td>\n",
       "      <td>1</td>\n",
       "    </tr>\n",
       "    <tr>\n",
       "      <th>2</th>\n",
       "      <td>седан</td>\n",
       "      <td>BMW</td>\n",
       "      <td>синий</td>\n",
       "      <td>бензин</td>\n",
       "      <td>2009.0</td>\n",
       "      <td>550i xDrive 4.4 AT (407 л.с.) 4WD</td>\n",
       "      <td>4.0</td>\n",
       "      <td>2012.0</td>\n",
       "      <td>SEDAN AUTOMATIC 4.4</td>\n",
       "      <td>автоматическая</td>\n",
       "      <td>...</td>\n",
       "      <td>120000.0</td>\n",
       "      <td>['[{\"name\":\"Комфорт\",\"values\":[\"Круиз-контроль...</td>\n",
       "      <td>полный</td>\n",
       "      <td>Левый</td>\n",
       "      <td>Не требует ремонта</td>\n",
       "      <td>2 владельца</td>\n",
       "      <td>Оригинал</td>\n",
       "      <td>Растаможен</td>\n",
       "      <td>7 лет и 2 месяца</td>\n",
       "      <td>2</td>\n",
       "    </tr>\n",
       "    <tr>\n",
       "      <th>3</th>\n",
       "      <td>внедорожник 5 дв.</td>\n",
       "      <td>BMW</td>\n",
       "      <td>белый</td>\n",
       "      <td>дизель</td>\n",
       "      <td>2014.0</td>\n",
       "      <td>30d 3.0d AT (249 л.с.) 4WD</td>\n",
       "      <td>5.0</td>\n",
       "      <td>2015.0</td>\n",
       "      <td>ALLROAD_5_DOORS AUTOMATIC 3.0</td>\n",
       "      <td>автоматическая</td>\n",
       "      <td>...</td>\n",
       "      <td>111466.0</td>\n",
       "      <td>['[{\"name\":\"Комфорт\",\"values\":[\"Круиз-контроль...</td>\n",
       "      <td>полный</td>\n",
       "      <td>Левый</td>\n",
       "      <td>Не требует ремонта</td>\n",
       "      <td>2 владельца</td>\n",
       "      <td>Оригинал</td>\n",
       "      <td>Растаможен</td>\n",
       "      <td>NaN</td>\n",
       "      <td>3</td>\n",
       "    </tr>\n",
       "    <tr>\n",
       "      <th>4</th>\n",
       "      <td>внедорожник 5 дв.</td>\n",
       "      <td>BMW</td>\n",
       "      <td>синий</td>\n",
       "      <td>дизель</td>\n",
       "      <td>2014.0</td>\n",
       "      <td>M50d 3.0d AT (381 л.с.) 4WD</td>\n",
       "      <td>5.0</td>\n",
       "      <td>2019.0</td>\n",
       "      <td>ALLROAD_5_DOORS AUTOMATIC 3.0</td>\n",
       "      <td>автоматическая</td>\n",
       "      <td>...</td>\n",
       "      <td>11891.0</td>\n",
       "      <td>['[{\"name\":\"Комфорт\",\"values\":[\"Круиз-контроль...</td>\n",
       "      <td>полный</td>\n",
       "      <td>Левый</td>\n",
       "      <td>Не требует ремонта</td>\n",
       "      <td>1 владелец</td>\n",
       "      <td>Оригинал</td>\n",
       "      <td>Растаможен</td>\n",
       "      <td>NaN</td>\n",
       "      <td>4</td>\n",
       "    </tr>\n",
       "  </tbody>\n",
       "</table>\n",
       "<p>5 rows × 23 columns</p>\n",
       "</div>"
      ],
      "text/plain": [
       "            bodyType brand   color fuelType  modelDate  \\\n",
       "0              седан   BMW  чёрный   дизель     2016.0   \n",
       "1              седан   BMW   белый   дизель     2018.0   \n",
       "2              седан   BMW   синий   бензин     2009.0   \n",
       "3  внедорожник 5 дв.   BMW   белый   дизель     2014.0   \n",
       "4  внедорожник 5 дв.   BMW   синий   дизель     2014.0   \n",
       "\n",
       "                                name  numberOfDoors  productionDate  \\\n",
       "0            520d 2.0d AT (190 л.с.)            4.0          2017.0   \n",
       "1            318d 2.0d AT (150 л.с.)            4.0          2019.0   \n",
       "2  550i xDrive 4.4 AT (407 л.с.) 4WD            4.0          2012.0   \n",
       "3         30d 3.0d AT (249 л.с.) 4WD            5.0          2015.0   \n",
       "4        M50d 3.0d AT (381 л.с.) 4WD            5.0          2019.0   \n",
       "\n",
       "            vehicleConfiguration vehicleTransmission  ...   mileage  \\\n",
       "0            SEDAN AUTOMATIC 2.0      автоматическая  ...  158836.0   \n",
       "1            SEDAN AUTOMATIC 2.0      автоматическая  ...      10.0   \n",
       "2            SEDAN AUTOMATIC 4.4      автоматическая  ...  120000.0   \n",
       "3  ALLROAD_5_DOORS AUTOMATIC 3.0      автоматическая  ...  111466.0   \n",
       "4  ALLROAD_5_DOORS AUTOMATIC 3.0      автоматическая  ...   11891.0   \n",
       "\n",
       "                                        Комплектация  Привод   Руль  \\\n",
       "0  ['[{\"name\":\"Безопасность\",\"values\":[\"Антипробу...  задний  Левый   \n",
       "1  ['[{\"name\":\"Комфорт\",\"values\":[\"Круиз-контроль...  задний  Левый   \n",
       "2  ['[{\"name\":\"Комфорт\",\"values\":[\"Круиз-контроль...  полный  Левый   \n",
       "3  ['[{\"name\":\"Комфорт\",\"values\":[\"Круиз-контроль...  полный  Левый   \n",
       "4  ['[{\"name\":\"Комфорт\",\"values\":[\"Круиз-контроль...  полный  Левый   \n",
       "\n",
       "            Состояние    Владельцы       ПТС     Таможня          Владение id  \n",
       "0  Не требует ремонта   1 владелец  Оригинал  Растаможен               NaN  0  \n",
       "1  Не требует ремонта   1 владелец  Оригинал  Растаможен               NaN  1  \n",
       "2  Не требует ремонта  2 владельца  Оригинал  Растаможен  7 лет и 2 месяца  2  \n",
       "3  Не требует ремонта  2 владельца  Оригинал  Растаможен               NaN  3  \n",
       "4  Не требует ремонта   1 владелец  Оригинал  Растаможен               NaN  4  \n",
       "\n",
       "[5 rows x 23 columns]"
      ]
     },
     "metadata": {},
     "output_type": "display_data"
    },
    {
     "name": "stdout",
     "output_type": "stream",
     "text": [
      "<class 'pandas.core.frame.DataFrame'>\n",
      "RangeIndex: 3837 entries, 0 to 3836\n",
      "Data columns (total 23 columns):\n",
      " #   Column                Non-Null Count  Dtype  \n",
      "---  ------                --------------  -----  \n",
      " 0   bodyType              3837 non-null   object \n",
      " 1   brand                 3837 non-null   object \n",
      " 2   color                 3837 non-null   object \n",
      " 3   fuelType              3837 non-null   object \n",
      " 4   modelDate             3837 non-null   float64\n",
      " 5   name                  3837 non-null   object \n",
      " 6   numberOfDoors         3837 non-null   float64\n",
      " 7   productionDate        3837 non-null   float64\n",
      " 8   vehicleConfiguration  3837 non-null   object \n",
      " 9   vehicleTransmission   3837 non-null   object \n",
      " 10  engineDisplacement    3837 non-null   object \n",
      " 11  enginePower           3837 non-null   object \n",
      " 12  description           3837 non-null   object \n",
      " 13  mileage               3837 non-null   float64\n",
      " 14  Комплектация          3837 non-null   object \n",
      " 15  Привод                3837 non-null   object \n",
      " 16  Руль                  3837 non-null   object \n",
      " 17  Состояние             3837 non-null   object \n",
      " 18  Владельцы             3837 non-null   object \n",
      " 19  ПТС                   3837 non-null   object \n",
      " 20  Таможня               3837 non-null   object \n",
      " 21  Владение              1753 non-null   object \n",
      " 22  id                    3837 non-null   int64  \n",
      "dtypes: float64(4), int64(1), object(18)\n",
      "memory usage: 689.6+ KB\n"
     ]
    }
   ],
   "source": [
    "display(data_test.head())\n",
    "data_test.info()"
   ]
  },
  {
   "cell_type": "markdown",
   "metadata": {},
   "source": [
    "Давайте приведём данные в колонке 'bodyType' обучающего датасета к виду как и в тестовом датасете."
   ]
  },
  {
   "cell_type": "code",
   "execution_count": 7,
   "metadata": {
    "ExecuteTime": {
     "end_time": "2020-08-14T09:35:19.461363Z",
     "start_time": "2020-08-14T09:35:18.887550Z"
    }
   },
   "outputs": [],
   "source": [
    "data_train['bodyType'] = data_train['bodyType'].apply(lambda x: str(x))\n",
    "def bodyType(row):\n",
    "    for body_type in ['внедорожник 5 дв.', 'седан-хардтоп', 'хэтчбек 5 дв.','внедорожник 3 дв.', \n",
    "                      'купе-хардтоп', 'внедорожник открытый','хэтчбек 3 дв.', 'пикап двойная кабина',\n",
    "                      'пикап полуторная кабина', 'пикап одинарная кабина', 'седан 2 дв.','универсал 5 дв.', \n",
    "                      'родстер', 'кабриолет','фургон', 'микровэн','минивэн', 'компактвэн','лифтбек',\n",
    "                      'купе','тарга', 'седан','лимузин']:\n",
    "        if row.lower().startswith(body_type):\n",
    "            return body_type\n",
    "data_train['bodyType'] = data_train['bodyType'].apply(bodyType)"
   ]
  },
  {
   "cell_type": "markdown",
   "metadata": {
    "ExecuteTime": {
     "end_time": "2020-08-13T18:38:26.068357Z",
     "start_time": "2020-08-13T18:38:25.931402Z"
    }
   },
   "source": [
    "Так же приведём вид колонки цвета в обучающем датасете к виду из тестового."
   ]
  },
  {
   "cell_type": "code",
   "execution_count": 8,
   "metadata": {
    "ExecuteTime": {
     "end_time": "2020-08-14T09:35:19.493353Z",
     "start_time": "2020-08-14T09:35:19.464361Z"
    }
   },
   "outputs": [],
   "source": [
    "data_train['color'] = data_train['color'].map({'CACECB': 'серебристый', 'FAFBFB':'белый', 'EE1D19':'красный', '97948F':'серый', \n",
    "                                     '660099':'пурпурный', '040001':'чёрный','4A2197':'фиолетовый', \n",
    "                                     '200204':'коричневый','0000CC':'синий', '007F00':'зелёный', 'C49648':'бежевый',\n",
    "                                     '22A0F8':'голубой','DEA522':'золотистый','FFD600': 'жёлтый', 'FF8649':'оранжевый',\n",
    "                                     'FFC0CB':'розовый'})"
   ]
  },
  {
   "cell_type": "markdown",
   "metadata": {},
   "source": [
    "Дальше прводим к общему виду колонки Руль и ПТС"
   ]
  },
  {
   "cell_type": "code",
   "execution_count": 9,
   "metadata": {
    "ExecuteTime": {
     "end_time": "2020-08-14T09:35:19.540336Z",
     "start_time": "2020-08-14T09:35:19.495351Z"
    }
   },
   "outputs": [],
   "source": [
    "data_train['Руль'] = data_train['Руль'].map({'LEFT': 'Левый', 'RIGHT': 'Правый'})\n",
    "data_train['ПТС'] = data_train['ПТС'].map({'ORIGINAL': 'Оригинал', 'DUPLICATE': 'Дубликат'}).fillna('Оригинал')"
   ]
  },
  {
   "cell_type": "markdown",
   "metadata": {},
   "source": [
    "Приведём столбец  со сроком жизни автомобиля к виду из тестовой подборке данных."
   ]
  },
  {
   "cell_type": "code",
   "execution_count": 10,
   "metadata": {
    "ExecuteTime": {
     "end_time": "2020-08-14T09:35:20.007184Z",
     "start_time": "2020-08-14T09:35:19.542336Z"
    }
   },
   "outputs": [],
   "source": [
    "data_train['Владение'] = data_train['Владение'].fillna('nodata')\n",
    "def months_to_sent(months):\n",
    "    if months == 1:\n",
    "        return f'{months} месяц'\n",
    "    elif 2 <= months <= 4:\n",
    "        return f'{months} месяца'\n",
    "    return f'{months} месяцев'\n",
    "def years_to_sent(years):\n",
    "    if 11 <= years <= 14 or 5 <= years%10 <= 9 or years%10 == 0:\n",
    "        return f'{years} лет'\n",
    "    elif years%10 == 1:\n",
    "        return f'{years} год'\n",
    "    elif 2 <= years%10 <= 4:\n",
    "        return f'{years} годa'\n",
    "def tenure(row):\n",
    "    row = re.findall('\\d+',row)\n",
    "    if row != []:\n",
    "        years = 2020 - (int(row[0])+1)\n",
    "        months = 2 +(12 - int(row[1]))\n",
    "        if years < 0:\n",
    "            return months_to_sent(int(row[1]))\n",
    "        elif years == 0 and months < 12:\n",
    "            return months_to_sent(months)\n",
    "        elif years >= 0 and months == 12:\n",
    "            return years_to_sent(years + 1)\n",
    "        elif years >= 0 and months > 12:\n",
    "            return years_to_sent(years + 1)+' и '+months_to_sent(months - 12)\n",
    "        elif years > 0 and months < 12:\n",
    "            return years_to_sent(years)+' и '+months_to_sent(months)\n",
    "        return None\n",
    "data_train['Владение'] = data_train['Владение'].apply(tenure)"
   ]
  },
  {
   "cell_type": "markdown",
   "metadata": {},
   "source": [
    "Столбец таможны содержит всего одно значение , можем его спокойно удалить."
   ]
  },
  {
   "cell_type": "code",
   "execution_count": 11,
   "metadata": {
    "ExecuteTime": {
     "end_time": "2020-08-14T09:35:20.039173Z",
     "start_time": "2020-08-14T09:35:20.009183Z"
    }
   },
   "outputs": [],
   "source": [
    "data_train = data_train.drop(['Таможня'], axis = 1)"
   ]
  },
  {
   "cell_type": "markdown",
   "metadata": {},
   "source": [
    "Дальше поиграемся с тестовыми данными."
   ]
  },
  {
   "cell_type": "code",
   "execution_count": 12,
   "metadata": {
    "ExecuteTime": {
     "end_time": "2020-08-14T09:35:20.086157Z",
     "start_time": "2020-08-14T09:35:20.041173Z"
    },
    "scrolled": false
   },
   "outputs": [],
   "source": [
    "# удалим ненужные столбцы\n",
    "data_test = data_test.drop(['id','Состояние', 'Таможня', 'vehicleTransmission'], axis = 1)\n",
    "  # приравняем к единому числовому варианту\n",
    "for feature in ['modelDate', 'numberOfDoors', 'productionDate', 'mileage']:\n",
    "    data_test[feature] = data_test[feature].astype('int64')\n",
    "#vehicleConfiguration, выведем только трансмиссию\n",
    "data_test['vehicleConfiguration'] = data_test['vehicleConfiguration'].apply(lambda x: x.split()[1])\n",
    "data_test['engineDisplacement'] = data_test['engineDisplacement'].apply(lambda x: x.split()[0])\n",
    "#enginePower, оставим только цифру в enginePower\n",
    "data_test['enginePower'] = data_test['enginePower'].apply(lambda x: int(x.split()[0]))\n",
    "# Владельцы, оставим только цифру\n",
    "data_test['Владельцы'] = data_test['Владельцы'].apply(lambda x: int(x.split()[0]))"
   ]
  },
  {
   "cell_type": "code",
   "execution_count": 13,
   "metadata": {
    "ExecuteTime": {
     "end_time": "2020-08-14T09:35:20.197122Z",
     "start_time": "2020-08-14T09:35:20.088158Z"
    },
    "scrolled": false
   },
   "outputs": [],
   "source": [
    "# train = train_(data_train)\n",
    "data_train.dropna(axis = 0, thresh=18,inplace=True)#строки , где слишком много пропущенных значений.\n",
    "# test = test_(data_test)"
   ]
  },
  {
   "cell_type": "code",
   "execution_count": 14,
   "metadata": {
    "ExecuteTime": {
     "end_time": "2020-08-14T09:35:20.431590Z",
     "start_time": "2020-08-14T09:35:20.199122Z"
    }
   },
   "outputs": [],
   "source": [
    "data_train.Price=data_train.Price.apply(lambda x: np.log(x))"
   ]
  },
  {
   "cell_type": "markdown",
   "metadata": {},
   "source": [
    "Создаём в каждом датафрейме колонку для идентификации их , а так же дополняем тестовый датофрейм не достающими значениями. И обьединяем их для большего удобства дальнейшей обработки."
   ]
  },
  {
   "cell_type": "code",
   "execution_count": 15,
   "metadata": {
    "ExecuteTime": {
     "end_time": "2020-08-14T09:35:20.524560Z",
     "start_time": "2020-08-14T09:35:20.433589Z"
    }
   },
   "outputs": [],
   "source": [
    "data_train['sample'] = 1\n",
    "data_test['sample'] = 0\n",
    "data_test['Price'] = 0\n",
    "data = data_test.append(data_train, sort=False).reset_index(drop=True)"
   ]
  },
  {
   "cell_type": "markdown",
   "metadata": {
    "ExecuteTime": {
     "end_time": "2020-08-14T09:30:13.211305Z",
     "start_time": "2020-08-14T09:30:13.201308Z"
    }
   },
   "source": [
    "Вычленяем из колонки с описанием отдельные параметры"
   ]
  },
  {
   "cell_type": "code",
   "execution_count": 16,
   "metadata": {
    "ExecuteTime": {
     "end_time": "2020-08-14T09:35:28.695822Z",
     "start_time": "2020-08-14T09:35:20.526560Z"
    }
   },
   "outputs": [],
   "source": [
    "data['description'] = data['description'].fillna('[]')\n",
    "data['description_len'] = data['description'].apply(lambda x: len(x.split()))\n",
    "data['description_word'] = data['description'].apply(lambda x: [str(i).lower() for i in x.split()])"
   ]
  },
  {
   "cell_type": "markdown",
   "metadata": {},
   "source": [
    "Превращаем описание автомобилей в дамми даные."
   ]
  },
  {
   "cell_type": "code",
   "execution_count": 17,
   "metadata": {
    "ExecuteTime": {
     "end_time": "2020-08-14T09:35:35.668291Z",
     "start_time": "2020-08-14T09:35:28.697821Z"
    }
   },
   "outputs": [],
   "source": [
    "data['leather']= data['description_word'].apply(lambda x: \n",
    "                                                1 if ('темный' and 'салон') in x else 0)\n",
    "data['carter']= data['description_word'].apply(lambda x: \n",
    "                                                1 if ('защита' and 'картера') in x else 0)\n",
    "data['ABS']= data['description_word'].apply(lambda x: \n",
    "                                                1 if ('антиблокировочная' and 'система') in x else 0)\n",
    "data['airbags']= data['description_word'].apply(lambda x: \n",
    "                                                1 if ('подушки' and 'безопасности') in x else 0)\n",
    "data['immob']= data['description_word'].apply(lambda x: \n",
    "                                                1 if ('иммобилайзер') in x else 0)\n",
    "data['central_locking']= data['description_word'].apply(lambda x: \n",
    "                                                1 if ('центральный' and 'замок') in x else 0)\n",
    "data['on_board_computer']= data['description_word'].apply(lambda x: \n",
    "                                                1 if ('бортовой' and 'компьютер') in x else 0)\n",
    "data['cruise_control']= data['description_word'].apply(lambda x: \n",
    "                                                1 if ('круиз-контроль') in x else 0)\n",
    "data['climat_control']= data['description_word'].apply(lambda x: \n",
    "                                                1 if ('климат-контроль') in x else 0)\n",
    "data['multi_rudder']= data['description_word'].apply(lambda x: \n",
    "                                                1 if ('мультифункциональный' and 'руль') in x else 0)\n",
    "data['power_steering']= data['description_word'].apply(lambda x: \n",
    "                                                1 if ('гидроусилитель' or 'гидро' or 'усилитель' and 'руля') in x else 0)\n",
    "data['light_and_rain_sensors']= data['description_word'].apply(lambda x: \n",
    "                                                1 if ('датчики' and 'света' and 'дождя') in x else 0)\n",
    "data['сarbon_body_kits']= data['description_word'].apply(lambda x: \n",
    "                                                1 if ('карбоновые' and 'обвесы') in x else 0)\n",
    "data['rear_diffuser_rkp']= data['description_word'].apply(lambda x: \n",
    "                                                1 if ('задний' and 'диффузор') in x else 0)\n",
    "data['door_closers']= data['description_word'].apply(lambda x: \n",
    "                                                1 if ('доводчики' and 'дверей') in x else 0)\n",
    "data['rear_view_camera']= data['description_word'].apply(lambda x: \n",
    "                                                1 if ('камера' or 'видеокамера' and 'заднего' and 'вида') in x else 0)\n",
    "data['amg']= data['description_word'].apply(lambda x: \n",
    "                                                1 if ('amg') in x else 0)\n",
    "data['bi_xenon_headlights']= data['description_word'].apply(lambda x: \n",
    "                                                1 if ('биксеноновые' and 'фары') in x else 0)\n",
    "data['from_salon']= data['description_word'].apply(lambda x: \n",
    "                                                1 if ('рольф' or 'панавто' or 'дилер' or 'кредит' or 'ликвидация') in x else 0)\n",
    "data['alloy_wheels']= data['description_word'].apply(lambda x: \n",
    "                                                1 if ('легкосплавные' or 'колесные' or 'диски') in x else 0)\n",
    "data['parking_sensors']= data['description_word'].apply(lambda x: \n",
    "                                                1 if ('парктроник' or 'парктронник') in x else 0)\n",
    "data['dents']= data['description_word'].apply(lambda x: \n",
    "                                                1 if ('вмятины' or 'вмятина' or 'царапина' or 'царапины' or 'трещина') in x else 0)\n",
    "data['roof_with_panoramic_view']= data['description_word'].apply(lambda x: \n",
    "                                                1 if ('панорамная' and 'крыша') in x else 0)"
   ]
  },
  {
   "cell_type": "code",
   "execution_count": 19,
   "metadata": {
    "ExecuteTime": {
     "end_time": "2020-08-14T09:35:35.698281Z",
     "start_time": "2020-08-14T09:35:35.685346Z"
    }
   },
   "outputs": [],
   "source": [
    "spis_eng = [str(i) for i in data['engineDisplacement'].unique()]"
   ]
  },
  {
   "cell_type": "code",
   "execution_count": 20,
   "metadata": {
    "ExecuteTime": {
     "end_time": "2020-08-14T09:35:35.713276Z",
     "start_time": "2020-08-14T09:35:35.699281Z"
    }
   },
   "outputs": [],
   "source": [
    "def engineDisplacement(row):\n",
    "    row = str(row)\n",
    "    engine = re.findall('\\d\\.\\d', row)\n",
    "    if engine == []:\n",
    "        return None\n",
    "    return float(engine[0])"
   ]
  },
  {
   "cell_type": "code",
   "execution_count": 21,
   "metadata": {
    "ExecuteTime": {
     "end_time": "2020-08-14T09:35:36.209114Z",
     "start_time": "2020-08-14T09:35:35.715276Z"
    }
   },
   "outputs": [],
   "source": [
    "data['engineDisplacement'] = data['name'].apply(engineDisplacement)"
   ]
  },
  {
   "cell_type": "code",
   "execution_count": 22,
   "metadata": {
    "ExecuteTime": {
     "end_time": "2020-08-14T09:35:36.225110Z",
     "start_time": "2020-08-14T09:35:36.213113Z"
    }
   },
   "outputs": [],
   "source": [
    "data['Владение_is_none'] = pd.isna(data['Владение']).astype('uint8')\n",
    "data['Владельцы'] = data['Владельцы'].fillna(3.0)\n",
    "data['engineDisplacement'] = data['engineDisplacement'].fillna(2.0) "
   ]
  },
  {
   "cell_type": "code",
   "execution_count": 23,
   "metadata": {
    "ExecuteTime": {
     "end_time": "2020-08-14T09:35:36.241105Z",
     "start_time": "2020-08-14T09:35:36.227108Z"
    }
   },
   "outputs": [],
   "source": [
    "def num_of_months(row):\n",
    "    if pd.notnull(row):\n",
    "        list_ownership = row.split()\n",
    "        if len(list_ownership) == 2:\n",
    "            if list_ownership[1] in ['год', 'года', 'лет']:\n",
    "                return int(list_ownership[0])*12\n",
    "            return int(list_ownership[0])\n",
    "        return int(list_ownership[0])*12 + int(list_ownership[3])"
   ]
  },
  {
   "cell_type": "code",
   "execution_count": 24,
   "metadata": {
    "ExecuteTime": {
     "end_time": "2020-08-14T09:35:36.446037Z",
     "start_time": "2020-08-14T09:35:36.244103Z"
    }
   },
   "outputs": [],
   "source": [
    "data['month_ownership'] = data['Владение'].apply(num_of_months)"
   ]
  },
  {
   "cell_type": "code",
   "execution_count": 25,
   "metadata": {
    "ExecuteTime": {
     "end_time": "2020-08-14T09:35:36.462031Z",
     "start_time": "2020-08-14T09:35:36.448035Z"
    }
   },
   "outputs": [],
   "source": [
    "data['month_ownership'].fillna(data['month_ownership'].median(),inplace=True)"
   ]
  },
  {
   "cell_type": "markdown",
   "metadata": {},
   "source": [
    "Удаляем лишние колонки и обработанными данными. И проверяем лесть ли пропуски в данных."
   ]
  },
  {
   "cell_type": "code",
   "execution_count": 26,
   "metadata": {
    "ExecuteTime": {
     "end_time": "2020-08-14T09:35:37.086510Z",
     "start_time": "2020-08-14T09:35:36.464031Z"
    },
    "scrolled": true
   },
   "outputs": [
    {
     "name": "stdout",
     "output_type": "stream",
     "text": [
      "Количество пропусков:  0\n"
     ]
    }
   ],
   "source": [
    "data.drop(['description', 'Комплектация', 'name', 'description_word', 'Владение'], axis = 1, inplace = True)\n",
    "print('Количество пропусков: ', data.isna().sum().sum())"
   ]
  },
  {
   "cell_type": "markdown",
   "metadata": {},
   "source": [
    "Преобразуем в дамми параметры."
   ]
  },
  {
   "cell_type": "code",
   "execution_count": 27,
   "metadata": {
    "ExecuteTime": {
     "end_time": "2020-08-14T09:35:37.274450Z",
     "start_time": "2020-08-14T09:35:37.088511Z"
    }
   },
   "outputs": [],
   "source": [
    "data = pd.get_dummies(data, columns = ['bodyType', 'brand', 'color', 'fuelType', 'vehicleConfiguration',\n",
    "                                           'Привод', 'Руль', 'Владельцы', 'ПТС', 'engineDisplacement'], dummy_na=True)"
   ]
  },
  {
   "cell_type": "code",
   "execution_count": 29,
   "metadata": {
    "ExecuteTime": {
     "end_time": "2020-08-14T09:35:37.507372Z",
     "start_time": "2020-08-14T09:35:37.293444Z"
    }
   },
   "outputs": [],
   "source": [
    "# отделяем трейновые и тестовые данные\n",
    "train_data = data.query('sample==1').drop('sample', axis = 1)\n",
    "test_data = data.query('sample==0').drop(['sample', 'Price'], axis = 1).reset_index(drop=True)"
   ]
  },
  {
   "cell_type": "code",
   "execution_count": 30,
   "metadata": {
    "ExecuteTime": {
     "end_time": "2020-08-14T09:35:37.570352Z",
     "start_time": "2020-08-14T09:35:37.509372Z"
    }
   },
   "outputs": [],
   "source": [
    "X = train_data.drop(['Price'], axis=1).reset_index(drop=True)\n",
    "y = train_data['Price'].values # target           "
   ]
  },
  {
   "cell_type": "code",
   "execution_count": 31,
   "metadata": {
    "ExecuteTime": {
     "end_time": "2020-08-14T09:37:54.918455Z",
     "start_time": "2020-08-14T09:35:37.572351Z"
    },
    "scrolled": true
   },
   "outputs": [
    {
     "name": "stderr",
     "output_type": "stream",
     "text": [
      "  0%|          | 0/2 [00:00<?, ?it/s][Parallel(n_jobs=-1)]: Using backend ThreadingBackend with 8 concurrent workers.\n",
      "[Parallel(n_jobs=-1)]: Done  34 tasks      | elapsed:   18.4s\n",
      "[Parallel(n_jobs=-1)]: Done 184 tasks      | elapsed:  1.5min\n",
      "[Parallel(n_jobs=-1)]: Done 250 out of 250 | elapsed:  2.0min finished\n",
      "[Parallel(n_jobs=8)]: Using backend ThreadingBackend with 8 concurrent workers.\n",
      "[Parallel(n_jobs=8)]: Done  34 tasks      | elapsed:    0.0s\n",
      "[Parallel(n_jobs=8)]: Done 184 tasks      | elapsed:    0.0s\n",
      "[Parallel(n_jobs=8)]: Done 250 out of 250 | elapsed:    0.0s finished\n",
      "100%|██████████| 2/2 [02:17<00:00, 68.66s/it] \n"
     ]
    }
   ],
   "source": [
    "models = [RandomForestRegressor(n_estimators =250,random_state = RANDOM_SEED, n_jobs = -1, verbose = 1),\n",
    "         BaggingRegressor(ExtraTreeRegressor(random_state=RANDOM_SEED), random_state=RANDOM_SEED)]\n",
    "\n",
    "def stacking_model_predict(models, X, y, test_data, sample_submission):\n",
    "    for model_ in tqdm(models):\n",
    "        model_.fit(X, y)\n",
    "        pred_subm = model_.predict(test_data)\n",
    "        sample_submission[str(model_)[:6]] = pred_subm\n",
    "        sample_submission[str(model_)[:6]] = sample_submission[str(model_)[:6]].apply(lambda x: np.exp(x) )\n",
    "        sample_submission[str(model_)[:6]] = sample_submission[str(model_)[:6]].apply(lambda x: round(x/1000)*1000)\n",
    "    sample_submission['price'] = sample_submission.iloc[:,2:].mean(axis=1)\n",
    "    sample_submission[['id', 'price']].to_csv(f'submission_v{VERSION}.csv', index=False)\n",
    "    sample_submission.head(10)\n",
    "\n",
    "stacking_model_predict(models, X, y, test_data, sample_submission)"
   ]
  },
  {
   "cell_type": "code",
   "execution_count": null,
   "metadata": {
    "ExecuteTime": {
     "end_time": "2020-08-12T10:09:05.377510Z",
     "start_time": "2020-08-12T10:05:50.071538Z"
    },
    "scrolled": true
   },
   "outputs": [],
   "source": []
  },
  {
   "cell_type": "code",
   "execution_count": null,
   "metadata": {},
   "outputs": [],
   "source": []
  },
  {
   "cell_type": "code",
   "execution_count": null,
   "metadata": {},
   "outputs": [],
   "source": []
  }
 ],
 "metadata": {
  "kernelspec": {
   "display_name": "Python 3",
   "language": "python",
   "name": "python3"
  },
  "language_info": {
   "codemirror_mode": {
    "name": "ipython",
    "version": 3
   },
   "file_extension": ".py",
   "mimetype": "text/x-python",
   "name": "python",
   "nbconvert_exporter": "python",
   "pygments_lexer": "ipython3",
   "version": "3.7.8"
  },
  "latex_envs": {
   "LaTeX_envs_menu_present": true,
   "autoclose": false,
   "autocomplete": true,
   "bibliofile": "biblio.bib",
   "cite_by": "apalike",
   "current_citInitial": 1,
   "eqLabelWithNumbers": true,
   "eqNumInitial": 1,
   "hotkeys": {
    "equation": "Ctrl-E",
    "itemize": "Ctrl-I"
   },
   "labels_anchors": false,
   "latex_user_defs": false,
   "report_style_numbering": false,
   "user_envs_cfg": false
  }
 },
 "nbformat": 4,
 "nbformat_minor": 4
}
